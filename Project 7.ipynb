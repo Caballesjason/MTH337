{
 "cells": [
  {
   "cell_type": "code",
   "execution_count": 1,
   "metadata": {},
   "outputs": [],
   "source": [
    "import random\n",
    "import numpy as np"
   ]
  },
  {
   "cell_type": "code",
   "execution_count": 40,
   "metadata": {},
   "outputs": [],
   "source": [
    "def encrypt(txt):\n",
    "    c = 3 # random.randint(25,100) # initials a random c\n",
    "    str_len = len(txt) # takes the string length\n",
    "    row_count = np.ceil(str_len/c) # divides the string length by column length and rounds up to get the number rows\n",
    "    a = np.ones([int(row_count),c],dtype=str) # intialize an array with row_count and c as rows a cols\n",
    "    x_vals = 0 # helps iterates through txt\n",
    "    row_num = 0 # represents which row we are on\n",
    "    bools = False # skip first element in the array\n",
    "\n",
    "    for i in txt: #iterate over string\n",
    "        col_num = x_vals % c # Determining which col you are updating\n",
    "        if bools: # blocks first iteration\n",
    "            if col_num == 0: # if you return to the first col after iterating through all of the columns\n",
    "                row_num += 1 # move to the next row\n",
    "        bools = True # Update bools to true\n",
    "        a[row_num, col_num] = i # Updates the element in the array to  desired character\n",
    "        x_vals += 1 # Moves onto the next element in the array\n",
    "        \n",
    " # This is where we add the & symbols\n",
    "    rows = np.shape(a)[0] # get number of rows\n",
    "    cols = np.shape(a)[1] # get number of values\n",
    "    max_count = rows * cols  # Gets the number of elements in arrray\n",
    "    length_to_go = max_count - x_vals # This represents the number of &s that we need\n",
    "\n",
    "# iterate over the number of &s we need\n",
    "    for j in range(length_to_go):\n",
    "        k = j+1# This allows us to start with index 1 and not 0\n",
    "        new_vals = x_vals + j # This allows to set up the modulus for the following element of the array with no string val\n",
    "        col_num = new_vals % c # Determines which column you are in\n",
    "        a[row_num, col_num] = \"&\" # updates that column for &\n",
    "    return np.transpose(a)"
   ]
  },
  {
   "cell_type": "code",
   "execution_count": 41,
   "metadata": {},
   "outputs": [
    {
     "data": {
      "text/plain": [
       "array([['L', 'e', 'I', 'm', 'o', ' ', 't', 'r'],\n",
       "       ['u', ',', ' ', ' ', 'u', 'f', 'h', '&'],\n",
       "       ['k', ' ', 'a', 'y', 'r', 'a', 'e', '&']], dtype='<U1')"
      ]
     },
     "execution_count": 41,
     "metadata": {},
     "output_type": "execute_result"
    }
   ],
   "source": [
    "encrypt('Luke, I am your father')"
   ]
  },
  {
   "cell_type": "code",
   "execution_count": null,
   "metadata": {},
   "outputs": [],
   "source": [
    "def decrypt(txt):\n",
    "    for i in range(25,101):\n",
    "        array = np.array([list(txt)])\n",
    "        cols = np.ceil(len(txt)/i)\n",
    "        if array.size != cols*i:\n",
    "            diff = cols*i - array.size\n",
    "            for k in range(diff):\n",
    "                \n",
    "        array = np.reshape((i, cols))"
   ]
  }
 ],
 "metadata": {
  "kernelspec": {
   "display_name": "Python 3",
   "language": "python",
   "name": "python3"
  },
  "language_info": {
   "codemirror_mode": {
    "name": "ipython",
    "version": 3
   },
   "file_extension": ".py",
   "mimetype": "text/x-python",
   "name": "python",
   "nbconvert_exporter": "python",
   "pygments_lexer": "ipython3",
   "version": "3.8.3"
  }
 },
 "nbformat": 4,
 "nbformat_minor": 4
}
