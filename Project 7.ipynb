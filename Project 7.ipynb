{
 "cells": [
  {
   "cell_type": "markdown",
   "metadata": {},
   "source": [
    "# Sudoku Solver"
   ]
  },
  {
   "cell_type": "code",
   "execution_count": 67,
   "metadata": {},
   "outputs": [],
   "source": [
    "import numpy as np\n",
    "from matplotlib import pyplot as plt"
   ]
  },
  {
   "cell_type": "markdown",
   "metadata": {},
   "source": [
    "In this cell, the sudokus text file `sudokus.txt` is opened and used to access the sudokus as numpy arrays."
   ]
  },
  {
   "cell_type": "code",
   "execution_count": 68,
   "metadata": {},
   "outputs": [],
   "source": [
    "s = open('sudokus.txt')\n",
    "lines = []\n",
    "for line in s:\n",
    "    lines.append(line.strip('\\n').split())\n",
    "s.close()                            \n",
    "    \n",
    "Test_Sudoku =  np.array(lines[1:10],dtype=int) # This is a sudoku from the text file to test functions"
   ]
  },
  {
   "cell_type": "markdown",
   "metadata": {},
   "source": [
    "## Functions to Solve the Sudokus"
   ]
  },
  {
   "cell_type": "markdown",
   "metadata": {},
   "source": [
    "The `find_outcomes` function finds each blank cell and finds all possible values that the cell can take up and puts them into a dictionary."
   ]
  },
  {
   "cell_type": "code",
   "execution_count": 69,
   "metadata": {},
   "outputs": [],
   "source": [
    "def find_outcomes(sudoku):\n",
    "    outcomes = {}\n",
    "                                 # Outcomes is a dictionary of all possible values for all blank cells in the Sudoku board.\n",
    "    subarray_centers = [(1,1),(1,4),(1,7),(4,1),(4,4),(4,7),(7,1),(7,4),(7,7)]\n",
    "                                 # This list contains the centers of each 3x3 sub-square on the sudoku board.\n",
    "    for i in subarray_centers:\n",
    "        for a,b in [(a,b) for a in range(i[0]-1,i[0] + 2) for b in range(i[1]-1,i[1] + 2)]:\n",
    "                                 # Iterates over each 3x3 sub-square & finds values that are not in the sub-square.\n",
    "            poss_vals = []       # This is the list of possible values of a blank cell given the rules of Sudoku.\n",
    "            if sudoku[a,b] == 0:\n",
    "                for k in range(1,10):\n",
    "                    if k not in sudoku[a,:] and k not in sudoku[:,b] and k not in sudoku[i[0]-1:i[0]+2,i[1]-1:i[1]+2]:\n",
    "                                 # If a value in the range 1-9 meets the three rules of value placement in sudoku.\n",
    "                        poss_vals.append(k)\n",
    "                                 # Append that value to the poss_vals list.\n",
    "                outcomes[(a,b)] = poss_vals \n",
    "                                 # Update the dictionary with the possible values of each blank cell.\n",
    "    return outcomes              # Return the outcomes dictionary"
   ]
  },
  {
   "cell_type": "code",
   "execution_count": 70,
   "metadata": {},
   "outputs": [
    {
     "data": {
      "text/plain": [
       "{(0, 0): [8],\n",
       " (0, 2): [3, 5],\n",
       " (1, 0): [1, 7],\n",
       " (1, 1): [3, 9],\n",
       " (2, 0): [1, 7],\n",
       " (2, 1): [3, 9],\n",
       " (0, 3): [2, 3, 6],\n",
       " (0, 4): [2, 3],\n",
       " (0, 5): [2, 3, 6],\n",
       " (1, 3): [3, 6, 7, 9],\n",
       " (1, 4): [1, 3],\n",
       " (2, 3): [2, 3, 7, 9],\n",
       " (2, 4): [1, 2, 3, 4],\n",
       " (1, 6): [3, 6],\n",
       " (2, 6): [3],\n",
       " (2, 7): [2],\n",
       " (3, 0): [2, 4, 6],\n",
       " (3, 2): [3, 4],\n",
       " (4, 0): [2, 4, 6, 7],\n",
       " (4, 2): [4, 7],\n",
       " (5, 0): [2, 7],\n",
       " (3, 3): [2, 3, 5],\n",
       " (3, 5): [2, 3, 4],\n",
       " (4, 3): [2, 8],\n",
       " (4, 5): [1, 2, 4],\n",
       " (5, 3): [2, 3, 5, 8],\n",
       " (5, 5): [2, 3],\n",
       " (3, 8): [2, 5, 6],\n",
       " (4, 6): [6, 8],\n",
       " (4, 8): [2, 6, 7],\n",
       " (5, 6): [5, 8],\n",
       " (5, 8): [2, 5, 7],\n",
       " (6, 1): [6],\n",
       " (6, 2): [1],\n",
       " (7, 2): [4],\n",
       " (6, 4): [2, 5, 8],\n",
       " (6, 5): [2, 6, 9],\n",
       " (7, 4): [3, 8],\n",
       " (7, 5): [3, 6, 9],\n",
       " (8, 3): [3, 5, 7],\n",
       " (8, 4): [3, 5],\n",
       " (8, 5): [3, 7],\n",
       " (6, 7): [8, 9],\n",
       " (6, 8): [1, 5],\n",
       " (7, 7): [8, 9],\n",
       " (7, 8): [3],\n",
       " (8, 6): [3, 4, 5],\n",
       " (8, 8): [1, 3, 5]}"
      ]
     },
     "execution_count": 70,
     "metadata": {},
     "output_type": "execute_result"
    }
   ],
   "source": [
    "find_outcomes(Test_Sudoku)"
   ]
  },
  {
   "cell_type": "markdown",
   "metadata": {},
   "source": [
    "The `solver` function solves the sudoku board."
   ]
  },
  {
   "cell_type": "code",
   "execution_count": 71,
   "metadata": {},
   "outputs": [],
   "source": [
    "def solver(sudoku):\n",
    "                                    \n",
    "    dicts = find_outcomes(sudoku)     # dicts is a dictionary of all possible values of the blank cells.\n",
    "    while len(dicts) != 0:            # This while-loop will update the board until all blank cells are updated.\n",
    "        for i in dicts.items():       # iterates over all blank cells\n",
    "            if len(i[1]) == 1:        # If the blank cell has only one possible value, update that cell & refresh dicts\n",
    "                sudoku[i[0][0], i[0][1]] = i[1][0]\n",
    "                dicts = find_outcomes(sudoku)\n",
    "    return sudoku"
   ]
  },
  {
   "cell_type": "code",
   "execution_count": 72,
   "metadata": {},
   "outputs": [
    {
     "data": {
      "text/plain": [
       "array([[8, 4, 5, 6, 3, 2, 1, 7, 9],\n",
       "       [7, 3, 2, 9, 1, 8, 6, 5, 4],\n",
       "       [1, 9, 6, 7, 4, 5, 3, 2, 8],\n",
       "       [6, 8, 3, 5, 7, 4, 9, 1, 2],\n",
       "       [4, 5, 7, 2, 9, 1, 8, 3, 6],\n",
       "       [2, 1, 9, 8, 6, 3, 5, 4, 7],\n",
       "       [3, 6, 1, 4, 2, 9, 7, 8, 5],\n",
       "       [5, 7, 4, 1, 8, 6, 2, 9, 3],\n",
       "       [9, 2, 8, 3, 5, 7, 4, 6, 1]])"
      ]
     },
     "execution_count": 72,
     "metadata": {},
     "output_type": "execute_result"
    }
   ],
   "source": [
    "solver(Test_Sudoku)"
   ]
  },
  {
   "cell_type": "markdown",
   "metadata": {},
   "source": [
    "## Test Case Functions"
   ]
  },
  {
   "cell_type": "markdown",
   "metadata": {},
   "source": [
    "The `count_freq` function takes an array and checks if any values of the in the array are repeated."
   ]
  },
  {
   "cell_type": "code",
   "execution_count": 73,
   "metadata": {},
   "outputs": [],
   "source": [
    "def count_freq(array): \n",
    "    for a in range(1,10):\n",
    "        sum = 0\n",
    "        for i,j in [(i,j) for i in range(np.shape(array)[0]) for j in range(np.shape(array)[1])]:\n",
    "                                                                            # Iterates over array\n",
    "            if array[i,j] == a:                                             # if a cell equals a value in the range\n",
    "                sum +=1                                                     # increase the sum by 1\n",
    "        if sum != 1:                                                        # If the sum does not equal one\n",
    "            return False                                                    # Return false"
   ]
  },
  {
   "cell_type": "markdown",
   "metadata": {},
   "source": [
    "The `checker` function checks if each sub-square, row, and column has no repeated values."
   ]
  },
  {
   "cell_type": "code",
   "execution_count": 74,
   "metadata": {
    "scrolled": true
   },
   "outputs": [],
   "source": [
    "def checker(sudoku):\n",
    "    subarray_centers = [(1,1),(1,4),(1,7),(4,1),(4,4),(4,7),(7,1),(7,4),(7,7)]\n",
    "                                                # This list contains the centers of each 3x3 sub-square on the sudoku board.\n",
    "    for i in subarray_centers:\n",
    "        subarray = np.array(sudoku[i[0]-1:i[0] + 2, i[1]-1:i[1] + 2])\n",
    "                                                # Creates the sub-squares as arrays given a sub-square center.\n",
    "        if count_freq(subarray) == False:       # If a number appears twice in the sub-square\n",
    "            print(\"Error in sub-squares\")       # Print that there is an error\n",
    "            break\n",
    "        else:                                   # If each number in the subsquare is unique\n",
    "            print(\"No errors in sub-squares\")   # Print that theres no errors in the sub squares\n",
    "            break\n",
    "                                                \n",
    "    for i, j in [(i,j) for i in range(np.shape(sudoku)[0]) for j in range(np.shape(sudoku)[1])]:\n",
    "                                                # This for loop iterates over the entire sudoku board\n",
    "            for a in range(1,10):\n",
    "                if len(np.where(sudoku[i, :] == a)) != 1:\n",
    "                                                # If a value in range 1-10 does not appear exactly once.\n",
    "                    print(\"Error in rows\")      # Print that there is an error in the rows\n",
    "                    break\n",
    "                else:                           # If a number appears exactly once\n",
    "                    print(\"No errors in rows\")  # Print that there are no errors in rows\n",
    "                    break \n",
    "\n",
    "            for a in range(1,10):\n",
    "                if len(np.where(sudoku[:,j] == a)) != 1:\n",
    "                                                # If a value in range 1-10 does not appear exactly once.\n",
    "                    print(\"Error in columns\")   # Print that there is an error in the columns\n",
    "                    break\n",
    "                else:                           # If a number appears exactly once\n",
    "                    print(\"No errors in columns\")\n",
    "                                                # Print that there are no errors in columns\n",
    "                    break\n",
    "            break"
   ]
  },
  {
   "cell_type": "code",
   "execution_count": 75,
   "metadata": {},
   "outputs": [
    {
     "name": "stdout",
     "output_type": "stream",
     "text": [
      "No errors in sub-squares\n",
      "No errors in rows\n",
      "No errors in columns\n"
     ]
    }
   ],
   "source": [
    "checker(Test_Sudoku)"
   ]
  },
  {
   "cell_type": "markdown",
   "metadata": {},
   "source": [
    "## Printing Sudokus"
   ]
  },
  {
   "cell_type": "markdown",
   "metadata": {},
   "source": [
    "The `print_sudoku` function prints the finished sudoku board in a nicer format."
   ]
  },
  {
   "cell_type": "code",
   "execution_count": 76,
   "metadata": {},
   "outputs": [],
   "source": [
    "def print_sudoku(arr): # arr is a 9x9 numpy array\n",
    "    for i in range(9):\n",
    "        for j in range(9):\n",
    "            x = arr[i, j] if arr[i, j] != 0 else \".\"\n",
    "            print(f\" {x} \", end=\"\")\n",
    "            if j in [2, 5]:\n",
    "                print(\"\\u2551\", end=\"\")\n",
    "        print(\"\")\n",
    "        if i in [2, 5]:\n",
    "            print(\"\\u2550\"*9 + \"\\u256C\" + \"\\u2550\"*9 + \"\\u256C\" + \"\\u2550\"*9)"
   ]
  },
  {
   "cell_type": "code",
   "execution_count": 77,
   "metadata": {},
   "outputs": [],
   "source": [
    "                                       \n",
    "Sudoku_Dict_Before = {\"S1\": np.array(lines[1:10],dtype=int),       # Dictionary containing all sudoku boards from sudoku.txt\n",
    "                \"S2\": np.array(lines[11:20],dtype=int), \n",
    "                \"S3\": np.array(lines[21:30], dtype=int),\n",
    "                \"S4\": np.array(lines[31:40], dtype=int), \n",
    "                \"S5\": np.array(lines[41:50], dtype=int), \n",
    "                \"S6\": np.array(lines[51:60], dtype=int)}\n",
    "\n",
    "\n",
    "Sudoku_Dict_After = {\"S1\": solver(np.array(lines[1:10],dtype=int)), # Dictionary containing all solved sudoku boards\n",
    "                \"S2\": solver(np.array(lines[11:20],dtype=int)), \n",
    "                \"S3\": solver(np.array(lines[21:30], dtype=int)),\n",
    "                \"S4\": solver(np.array(lines[31:40], dtype=int)), \n",
    "                \"S5\": solver(np.array(lines[41:50], dtype=int)),\n",
    "                \"S6\": solver(np.array(lines[51:60], dtype=int))}"
   ]
  },
  {
   "cell_type": "markdown",
   "metadata": {},
   "source": [
    "### The First Sudoku S1"
   ]
  },
  {
   "cell_type": "code",
   "execution_count": 78,
   "metadata": {},
   "outputs": [
    {
     "name": "stdout",
     "output_type": "stream",
     "text": [
      " .  4  . ║ .  .  . ║ 1  7  9 \n",
      " .  .  2 ║ .  .  8 ║ .  5  4 \n",
      " .  .  6 ║ .  .  5 ║ .  .  8 \n",
      "═════════╬═════════╬═════════\n",
      " .  8  . ║ .  7  . ║ 9  1  . \n",
      " .  5  . ║ .  9  . ║ .  3  . \n",
      " .  1  9 ║ .  6  . ║ .  4  . \n",
      "═════════╬═════════╬═════════\n",
      " 3  .  . ║ 4  .  . ║ 7  .  . \n",
      " 5  7  . ║ 1  .  . ║ 2  .  . \n",
      " 9  2  8 ║ .  .  . ║ .  6  . \n"
     ]
    }
   ],
   "source": [
    "print_sudoku(Sudoku_Dict_Before[\"S1\"])"
   ]
  },
  {
   "cell_type": "code",
   "execution_count": 79,
   "metadata": {},
   "outputs": [
    {
     "name": "stdout",
     "output_type": "stream",
     "text": [
      " 8  4  5 ║ 6  3  2 ║ 1  7  9 \n",
      " 7  3  2 ║ 9  1  8 ║ 6  5  4 \n",
      " 1  9  6 ║ 7  4  5 ║ 3  2  8 \n",
      "═════════╬═════════╬═════════\n",
      " 6  8  3 ║ 5  7  4 ║ 9  1  2 \n",
      " 4  5  7 ║ 2  9  1 ║ 8  3  6 \n",
      " 2  1  9 ║ 8  6  3 ║ 5  4  7 \n",
      "═════════╬═════════╬═════════\n",
      " 3  6  1 ║ 4  2  9 ║ 7  8  5 \n",
      " 5  7  4 ║ 1  8  6 ║ 2  9  3 \n",
      " 9  2  8 ║ 3  5  7 ║ 4  6  1 \n"
     ]
    }
   ],
   "source": [
    "print_sudoku(Sudoku_Dict_After[\"S1\"])"
   ]
  },
  {
   "cell_type": "code",
   "execution_count": 80,
   "metadata": {},
   "outputs": [
    {
     "name": "stdout",
     "output_type": "stream",
     "text": [
      "No errors in sub-squares\n",
      "No errors in rows\n",
      "No errors in columns\n"
     ]
    }
   ],
   "source": [
    "checker(Sudoku_Dict_After[\"S1\"])"
   ]
  },
  {
   "cell_type": "markdown",
   "metadata": {},
   "source": [
    "### The Second Sudoku S2"
   ]
  },
  {
   "cell_type": "code",
   "execution_count": 81,
   "metadata": {},
   "outputs": [
    {
     "name": "stdout",
     "output_type": "stream",
     "text": [
      " 8  .  2 ║ .  5  . ║ 7  .  1 \n",
      " .  .  7 ║ .  8  2 ║ 4  6  . \n",
      " .  1  . ║ 9  .  . ║ .  .  . \n",
      "═════════╬═════════╬═════════\n",
      " 6  .  . ║ .  .  1 ║ 8  3  2 \n",
      " 5  .  . ║ .  .  . ║ .  .  9 \n",
      " 1  8  4 ║ 3  .  . ║ .  .  6 \n",
      "═════════╬═════════╬═════════\n",
      " .  .  . ║ .  .  4 ║ .  2  . \n",
      " .  9  5 ║ 6  1  . ║ 3  .  . \n",
      " 3  .  8 ║ .  9  . ║ 6  .  7 \n"
     ]
    }
   ],
   "source": [
    "print_sudoku(Sudoku_Dict_Before[\"S2\"])"
   ]
  },
  {
   "cell_type": "code",
   "execution_count": 82,
   "metadata": {},
   "outputs": [
    {
     "name": "stdout",
     "output_type": "stream",
     "text": [
      " 8  3  2 ║ 4  5  6 ║ 7  9  1 \n",
      " 9  5  7 ║ 1  8  2 ║ 4  6  3 \n",
      " 4  1  6 ║ 9  7  3 ║ 2  5  8 \n",
      "═════════╬═════════╬═════════\n",
      " 6  7  9 ║ 5  4  1 ║ 8  3  2 \n",
      " 5  2  3 ║ 7  6  8 ║ 1  4  9 \n",
      " 1  8  4 ║ 3  2  9 ║ 5  7  6 \n",
      "═════════╬═════════╬═════════\n",
      " 7  6  1 ║ 8  3  4 ║ 9  2  5 \n",
      " 2  9  5 ║ 6  1  7 ║ 3  8  4 \n",
      " 3  4  8 ║ 2  9  5 ║ 6  1  7 \n"
     ]
    }
   ],
   "source": [
    "print_sudoku(Sudoku_Dict_After[\"S2\"])"
   ]
  },
  {
   "cell_type": "code",
   "execution_count": 83,
   "metadata": {},
   "outputs": [
    {
     "name": "stdout",
     "output_type": "stream",
     "text": [
      "No errors in sub-squares\n",
      "No errors in rows\n",
      "No errors in columns\n"
     ]
    }
   ],
   "source": [
    "checker(Sudoku_Dict_After[\"S2\"])"
   ]
  },
  {
   "cell_type": "markdown",
   "metadata": {},
   "source": [
    "### The Third Sudoku S3"
   ]
  },
  {
   "cell_type": "code",
   "execution_count": 84,
   "metadata": {},
   "outputs": [
    {
     "name": "stdout",
     "output_type": "stream",
     "text": [
      " .  .  . ║ .  .  . ║ .  .  7 \n",
      " 7  2  . ║ 3  .  9 ║ .  .  1 \n",
      " .  .  8 ║ 7  .  5 ║ .  6  . \n",
      "═════════╬═════════╬═════════\n",
      " 5  .  2 ║ 8  9  . ║ .  .  . \n",
      " .  4  . ║ 5  .  1 ║ .  9  . \n",
      " .  .  . ║ .  6  3 ║ 7  .  5 \n",
      "═════════╬═════════╬═════════\n",
      " .  3  . ║ 9  .  6 ║ 1  .  . \n",
      " 2  .  . ║ 1  .  7 ║ .  5  3 \n",
      " 9  .  . ║ .  .  . ║ .  .  . \n"
     ]
    }
   ],
   "source": [
    "print_sudoku(Sudoku_Dict_Before[\"S3\"])"
   ]
  },
  {
   "cell_type": "code",
   "execution_count": 85,
   "metadata": {},
   "outputs": [
    {
     "name": "stdout",
     "output_type": "stream",
     "text": [
      " 4  9  5 ║ 6  1  8 ║ 2  3  7 \n",
      " 7  2  6 ║ 3  4  9 ║ 5  8  1 \n",
      " 3  1  8 ║ 7  2  5 ║ 4  6  9 \n",
      "═════════╬═════════╬═════════\n",
      " 5  7  2 ║ 8  9  4 ║ 3  1  6 \n",
      " 6  4  3 ║ 5  7  1 ║ 8  9  2 \n",
      " 1  8  9 ║ 2  6  3 ║ 7  4  5 \n",
      "═════════╬═════════╬═════════\n",
      " 8  3  7 ║ 9  5  6 ║ 1  2  4 \n",
      " 2  6  4 ║ 1  8  7 ║ 9  5  3 \n",
      " 9  5  1 ║ 4  3  2 ║ 6  7  8 \n"
     ]
    }
   ],
   "source": [
    "print_sudoku(Sudoku_Dict_After[\"S3\"])"
   ]
  },
  {
   "cell_type": "code",
   "execution_count": 86,
   "metadata": {},
   "outputs": [
    {
     "name": "stdout",
     "output_type": "stream",
     "text": [
      "No errors in sub-squares\n",
      "No errors in rows\n",
      "No errors in columns\n"
     ]
    }
   ],
   "source": [
    "checker(Sudoku_Dict_After[\"S3\"])"
   ]
  },
  {
   "cell_type": "markdown",
   "metadata": {},
   "source": [
    "### The Fourth Sudoku S4"
   ]
  },
  {
   "cell_type": "code",
   "execution_count": 87,
   "metadata": {},
   "outputs": [
    {
     "name": "stdout",
     "output_type": "stream",
     "text": [
      " .  2  5 ║ .  .  7 ║ .  .  4 \n",
      " .  .  1 ║ .  .  5 ║ .  2  . \n",
      " 7  .  . ║ .  2  . ║ 5  .  . \n",
      "═════════╬═════════╬═════════\n",
      " 5  .  9 ║ .  .  4 ║ 8  .  . \n",
      " .  .  . ║ .  .  . ║ .  .  . \n",
      " .  .  7 ║ 5  .  . ║ 6  .  9 \n",
      "═════════╬═════════╬═════════\n",
      " .  .  3 ║ .  7  . ║ .  .  6 \n",
      " .  4  . ║ 1  .  . ║ 7  .  . \n",
      " 8  .  . ║ 2  .  . ║ 9  1  . \n"
     ]
    }
   ],
   "source": [
    "print_sudoku(Sudoku_Dict_Before[\"S4\"])"
   ]
  },
  {
   "cell_type": "code",
   "execution_count": 88,
   "metadata": {},
   "outputs": [
    {
     "name": "stdout",
     "output_type": "stream",
     "text": [
      " 3  2  5 ║ 8  6  7 ║ 1  9  4 \n",
      " 6  8  1 ║ 4  9  5 ║ 3  2  7 \n",
      " 7  9  4 ║ 3  2  1 ║ 5  6  8 \n",
      "═════════╬═════════╬═════════\n",
      " 5  3  9 ║ 6  1  4 ║ 8  7  2 \n",
      " 2  6  8 ║ 7  3  9 ║ 4  5  1 \n",
      " 4  1  7 ║ 5  8  2 ║ 6  3  9 \n",
      "═════════╬═════════╬═════════\n",
      " 1  5  3 ║ 9  7  8 ║ 2  4  6 \n",
      " 9  4  2 ║ 1  5  6 ║ 7  8  3 \n",
      " 8  7  6 ║ 2  4  3 ║ 9  1  5 \n"
     ]
    }
   ],
   "source": [
    "print_sudoku(Sudoku_Dict_After[\"S4\"])"
   ]
  },
  {
   "cell_type": "code",
   "execution_count": 89,
   "metadata": {},
   "outputs": [
    {
     "name": "stdout",
     "output_type": "stream",
     "text": [
      "No errors in sub-squares\n",
      "No errors in rows\n",
      "No errors in columns\n"
     ]
    }
   ],
   "source": [
    "checker(Sudoku_Dict_After[\"S4\"])"
   ]
  },
  {
   "cell_type": "markdown",
   "metadata": {},
   "source": [
    "### The Fifth Sudoku S5"
   ]
  },
  {
   "cell_type": "code",
   "execution_count": 90,
   "metadata": {},
   "outputs": [
    {
     "name": "stdout",
     "output_type": "stream",
     "text": [
      " .  .  1 ║ 7  2  5 ║ .  .  . \n",
      " .  8  . ║ .  1  . ║ .  .  6 \n",
      " 2  5  . ║ .  .  . ║ 1  3  . \n",
      "═════════╬═════════╬═════════\n",
      " .  7  . ║ .  .  . ║ 5  .  . \n",
      " .  .  . ║ 1  .  6 ║ .  .  . \n",
      " .  .  9 ║ .  .  . ║ .  8  . \n",
      "═════════╬═════════╬═════════\n",
      " .  4  5 ║ .  .  . ║ .  2  9 \n",
      " 7  .  . ║ .  9  . ║ .  6  . \n",
      " .  .  . ║ 6  4  8 ║ 3  .  . \n"
     ]
    }
   ],
   "source": [
    "print_sudoku(Sudoku_Dict_Before[\"S5\"])"
   ]
  },
  {
   "cell_type": "code",
   "execution_count": 91,
   "metadata": {},
   "outputs": [
    {
     "name": "stdout",
     "output_type": "stream",
     "text": [
      " 3  6  1 ║ 7  2  5 ║ 9  4  8 \n",
      " 9  8  7 ║ 4  1  3 ║ 2  5  6 \n",
      " 2  5  4 ║ 8  6  9 ║ 1  3  7 \n",
      "═════════╬═════════╬═════════\n",
      " 8  7  6 ║ 9  3  4 ║ 5  1  2 \n",
      " 5  2  3 ║ 1  8  6 ║ 7  9  4 \n",
      " 4  1  9 ║ 2  5  7 ║ 6  8  3 \n",
      "═════════╬═════════╬═════════\n",
      " 6  4  5 ║ 3  7  1 ║ 8  2  9 \n",
      " 7  3  8 ║ 5  9  2 ║ 4  6  1 \n",
      " 1  9  2 ║ 6  4  8 ║ 3  7  5 \n"
     ]
    }
   ],
   "source": [
    "print_sudoku(Sudoku_Dict_After[\"S5\"])"
   ]
  },
  {
   "cell_type": "code",
   "execution_count": 92,
   "metadata": {},
   "outputs": [
    {
     "name": "stdout",
     "output_type": "stream",
     "text": [
      "No errors in sub-squares\n",
      "No errors in rows\n",
      "No errors in columns\n"
     ]
    }
   ],
   "source": [
    "checker(Sudoku_Dict_After[\"S5\"])"
   ]
  },
  {
   "cell_type": "markdown",
   "metadata": {},
   "source": [
    "### The Sixth Sudoku S6"
   ]
  },
  {
   "cell_type": "code",
   "execution_count": 93,
   "metadata": {},
   "outputs": [
    {
     "name": "stdout",
     "output_type": "stream",
     "text": [
      " .  .  3 ║ .  2  . ║ 6  .  . \n",
      " 9  .  . ║ 3  .  5 ║ .  .  1 \n",
      " .  .  1 ║ 8  .  6 ║ 4  .  . \n",
      "═════════╬═════════╬═════════\n",
      " .  .  8 ║ 1  .  2 ║ 9  .  . \n",
      " 7  .  . ║ .  .  . ║ .  .  8 \n",
      " .  .  6 ║ 7  .  8 ║ 2  .  . \n",
      "═════════╬═════════╬═════════\n",
      " .  .  2 ║ 6  .  9 ║ 5  .  . \n",
      " 8  .  . ║ 2  .  3 ║ .  .  9 \n",
      " .  .  5 ║ .  1  . ║ 3  .  . \n"
     ]
    }
   ],
   "source": [
    "print_sudoku(Sudoku_Dict_Before[\"S6\"])"
   ]
  },
  {
   "cell_type": "code",
   "execution_count": 94,
   "metadata": {},
   "outputs": [
    {
     "name": "stdout",
     "output_type": "stream",
     "text": [
      " 4  8  3 ║ 9  2  1 ║ 6  5  7 \n",
      " 9  6  7 ║ 3  4  5 ║ 8  2  1 \n",
      " 2  5  1 ║ 8  7  6 ║ 4  9  3 \n",
      "═════════╬═════════╬═════════\n",
      " 5  4  8 ║ 1  3  2 ║ 9  7  6 \n",
      " 7  2  9 ║ 5  6  4 ║ 1  3  8 \n",
      " 1  3  6 ║ 7  9  8 ║ 2  4  5 \n",
      "═════════╬═════════╬═════════\n",
      " 3  7  2 ║ 6  8  9 ║ 5  1  4 \n",
      " 8  1  4 ║ 2  5  3 ║ 7  6  9 \n",
      " 6  9  5 ║ 4  1  7 ║ 3  8  2 \n"
     ]
    }
   ],
   "source": [
    "print_sudoku(Sudoku_Dict_After[\"S6\"])"
   ]
  },
  {
   "cell_type": "code",
   "execution_count": 95,
   "metadata": {},
   "outputs": [
    {
     "name": "stdout",
     "output_type": "stream",
     "text": [
      "No errors in sub-squares\n",
      "No errors in rows\n",
      "No errors in columns\n"
     ]
    }
   ],
   "source": [
    "checker(Sudoku_Dict_After[\"S6\"])"
   ]
  }
 ],
 "metadata": {
  "kernelspec": {
   "display_name": "Python 3",
   "language": "python",
   "name": "python3"
  },
  "language_info": {
   "codemirror_mode": {
    "name": "ipython",
    "version": 3
   },
   "file_extension": ".py",
   "mimetype": "text/x-python",
   "name": "python",
   "nbconvert_exporter": "python",
   "pygments_lexer": "ipython3",
   "version": "3.8.3"
  }
 },
 "nbformat": 4,
 "nbformat_minor": 4
}
