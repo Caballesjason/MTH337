{
 "cells": [
  {
   "cell_type": "code",
   "execution_count": 1,
   "metadata": {},
   "outputs": [],
   "source": [
    "import numpy as np\n",
    "import matplotlib.pyplot as plt"
   ]
  },
  {
   "cell_type": "markdown",
   "metadata": {},
   "source": [
    "My tartan is as follows:"
   ]
  },
  {
   "cell_type": "code",
   "execution_count": 2,
   "metadata": {},
   "outputs": [
    {
     "data": {
      "text/plain": [
       "28"
      ]
     },
     "execution_count": 2,
     "metadata": {},
     "output_type": "execute_result"
    }
   ],
   "source": [
    "mytartan = 50258468%31\n",
    "mytartan"
   ]
  },
  {
   "cell_type": "markdown",
   "metadata": {},
   "source": [
    "This `comb_str` combines stringifyed integers and combines into one integer. The input is a list of integers as strings."
   ]
  },
  {
   "cell_type": "code",
   "execution_count": 3,
   "metadata": {
    "scrolled": true
   },
   "outputs": [
    {
     "data": {
      "text/plain": [
       "'14'"
      ]
     },
     "execution_count": 3,
     "metadata": {},
     "output_type": "execute_result"
    }
   ],
   "source": [
    "# This function combines strings in a list into one big string\n",
    "def comb_str(lizst):\n",
    "    c=\"\"\n",
    "# iterate over character lists and combines each char in lizst to form a new concatenated string \n",
    "    for i in lizst: \n",
    "        c += i\n",
    "    return c\n",
    "\n",
    "comb_str(['1', '4'])"
   ]
  },
  {
   "cell_type": "markdown",
   "metadata": {},
   "source": [
    "The `deconstruct_pattern` function takes a pattern of colors and widths and creates tuples with the colors in the first index and widths in the second index."
   ]
  },
  {
   "cell_type": "code",
   "execution_count": 4,
   "metadata": {},
   "outputs": [
    {
     "data": {
      "text/plain": [
       "[('K', 16),\n",
       " ('Y', 4),\n",
       " ('K', 32),\n",
       " ('Y', 48),\n",
       " ('R', 4),\n",
       " ('Y', 48),\n",
       " ('K', 32),\n",
       " ('Y', 4),\n",
       " ('K', 16)]"
      ]
     },
     "execution_count": 4,
     "metadata": {},
     "output_type": "execute_result"
    }
   ],
   "source": [
    "# This function will separate the characters by integers and letters into separate lists\n",
    "def deconstruct_pattern(data): # Input is the color-width data in the form of a list\n",
    "    data = data.split(\" \")\n",
    "    tups_list = []\n",
    "# Iterates over each character in a string\n",
    "    for i in data:\n",
    "        if_let = []\n",
    "        if_digit = []\n",
    "        for strs in i:\n",
    "    # If the character is a digit\n",
    "            if strs.isdigit(): \n",
    "            # Add the digit to the ints list\n",
    "                if_digit.append(strs)\n",
    "        # If its not a digit, but a letter\n",
    "            else:\n",
    "                # Add that letter into the letters list\n",
    "                if_let.append(strs)\n",
    "        tups = (comb_str(if_let),int(comb_str(if_digit)) )\n",
    "        tups_list.append(tups)\n",
    "    return tups_list\n",
    "\n",
    "\n",
    "deconstruct_pattern(\"K16 Y4 K32 Y48 R4 Y48 K32 Y4 K16\")"
   ]
  },
  {
   "cell_type": "markdown",
   "metadata": {},
   "source": [
    "The `fix_color` takes a dictionary of RGB coordinates and normalizes them to be between 0 and 1."
   ]
  },
  {
   "cell_type": "code",
   "execution_count": 5,
   "metadata": {},
   "outputs": [
    {
     "data": {
      "text/plain": [
       "{'K': [0.06274509803921569, 0.06274509803921569, 0.06274509803921569],\n",
       " 'R': [0.7843137254901961, 0.0, 0.0],\n",
       " 'Y': [0.8470588235294118, 0.6901960784313725, 0.0]}"
      ]
     },
     "execution_count": 5,
     "metadata": {},
     "output_type": "execute_result"
    }
   ],
   "source": [
    "def fix_color(dicts):\n",
    "    for i,j in dicts.items():\n",
    "        l = []\n",
    "        for k in j:\n",
    "            k = k/255\n",
    "            l.append(k)\n",
    "            dicts.update({i:l})\n",
    "    return dicts\n",
    "\n",
    "color_patt = {\"K\" : [16, 16, 16],\n",
    "\"R\" : [200, 0, 0],\n",
    "\"Y\" : [216, 176, 0]}\n",
    "\n",
    "fix_color(color_patt)"
   ]
  },
  {
   "cell_type": "markdown",
   "metadata": {},
   "source": [
    "The `make_stripe` creates a stripe with a specific color."
   ]
  },
  {
   "cell_type": "code",
   "execution_count": 6,
   "metadata": {},
   "outputs": [],
   "source": [
    "def make_stripe(pattern, width, height):\n",
    "    array = np.ones((height, width, 3))\n",
    "    for i,j in [(i,j) for i in range(height) for j in range(width)]:\n",
    "        array[i,j,:] = (pattern[0], pattern[1], pattern[2])\n",
    "    return array\n"
   ]
  },
  {
   "cell_type": "markdown",
   "metadata": {},
   "source": [
    "The `build_vert` function creates the pattern of the tarton concatenating each stripe in a given pattern."
   ]
  },
  {
   "cell_type": "code",
   "execution_count": 7,
   "metadata": {},
   "outputs": [],
   "source": [
    "def build_vert(pattern, color_dict, size):\n",
    "# Fix the dictionary to have RGB coordinates between 0 and 1\n",
    "    color_dict = fix_color(color_dict)\n",
    "# Deconstruct Color-Width pattern using the deconstruct_pattern function\n",
    "    patt = deconstruct_pattern(pattern)\n",
    "# Initiate first array\n",
    "    start = np.ones([size,0,3])\n",
    "# iterate over the pattern and concatenate each strip of colors from the pattern.\n",
    "    for i in patt:\n",
    "        strip = make_stripe(color_dict[i[0]],i[1],size)\n",
    "        start = np.concatenate([start, strip],1)\n",
    "# If the inputted size is smaller than the width of the pattern, delete some columns to have the size = width\n",
    "    if size < np.shape(start)[1]:\n",
    "        start = np.delete(start,range(size,np.shape(start)[1]) ,1)\n",
    "# If a inputted size is greater than the width of the pattern, concatenate a copy of the pattern & remove columns any\n",
    "# columns if width > size\n",
    "    while size > np.shape(start)[1]:\n",
    "        start = np.concatenate([start,start], 1)\n",
    "    remainder = np.shape(start)[1] % size\n",
    "    start = np.delete(start,range(np.shape(start)[1] - remainder, np.shape(start)[1]),1)\n",
    "    return start\n"
   ]
  },
  {
   "cell_type": "markdown",
   "metadata": {},
   "source": [
    "The `build_tartan_without_diagonal` function creates a symbol tartan using alternating horizontal and vertical stripes."
   ]
  },
  {
   "cell_type": "code",
   "execution_count": 126,
   "metadata": {},
   "outputs": [],
   "source": [
    "def create_tartan_without_diagonal(array):\n",
    "    vert = array\n",
    "    hori = np.transpose(vert, (1,0,2))\n",
    "    tartan = np.zeros([np.shape(array)[0],np.shape(array)[1],3])\n",
    "# Iterate over original array, if the sum of of the coordinates (i,j) is even, its a vertical stripe!\n",
    "    for i, j in [(i,j) for i in range(np.shape(array)[0]) for j in range(np.shape(array)[1])]:\n",
    "        if (i+j) % 2 == 0:\n",
    "            tartan[i, j, :] = vert[i,j,:]\n",
    "        else:\n",
    "            tartan[i, j, :] = hori[i, j, :]\n",
    "    return tartan"
   ]
  },
  {
   "cell_type": "code",
   "execution_count": 141,
   "metadata": {},
   "outputs": [
    {
     "data": {
      "image/png": "[encoded data removed]",
      "text/plain": [
       "<Figure size 432x288 with 1 Axes>"
      ]
     },
     "metadata": {
      "needs_background": "light"
     },
     "output_type": "display_data"
    }
   ],
   "source": [
    "ans = build_vert(\"K16 Y4 K32 Y48 R4 Y48 K32 Y4 K16\",{\"K\" : [16, 16, 16],\"R\" : [200, 0, 0],\"Y\" : [216, 176, 0]}, 600)\n",
    "\n",
    "plt.imshow(create_tartan_without_diagonal(ans))\n",
    "plt.show()"
   ]
  },
  {
   "cell_type": "code",
   "execution_count": null,
   "metadata": {},
   "outputs": [],
   "source": []
  }
 ],
 "metadata": {
  "kernelspec": {
   "display_name": "Python 3",
   "language": "python",
   "name": "python3"
  },
  "language_info": {
   "codemirror_mode": {
    "name": "ipython",
    "version": 3
   },
   "file_extension": ".py",
   "mimetype": "text/x-python",
   "name": "python",
   "nbconvert_exporter": "python",
   "pygments_lexer": "ipython3",
   "version": "3.8.3"
  }
 },
 "nbformat": 4,
 "nbformat_minor": 4
}
