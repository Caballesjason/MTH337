{
 "cells": [
  {
   "cell_type": "code",
   "execution_count": 53,
   "metadata": {},
   "outputs": [],
   "source": [
    "import numpy as np\n",
    "import matplotlib.pyplot as plt"
   ]
  },
  {
   "cell_type": "markdown",
   "metadata": {},
   "source": [
    "Here is a function that takes list of integers as strings and combines them into one big number as a string"
   ]
  },
  {
   "cell_type": "code",
   "execution_count": 145,
   "metadata": {},
   "outputs": [
    {
     "data": {
      "text/plain": [
       "28"
      ]
     },
     "execution_count": 145,
     "metadata": {},
     "output_type": "execute_result"
    }
   ],
   "source": [
    "mytartan = 50258468%31\n",
    "mytartan"
   ]
  },
  {
   "cell_type": "code",
   "execution_count": 2,
   "metadata": {
    "scrolled": true
   },
   "outputs": [
    {
     "data": {
      "text/plain": [
       "'14'"
      ]
     },
     "execution_count": 2,
     "metadata": {},
     "output_type": "execute_result"
    }
   ],
   "source": [
    "# This function combines strings in a list into one big string\n",
    "def comb_str(lizst): # Input is some list of lists containing ints as char\n",
    "    c=\"\"\n",
    "# iterate over character lists\n",
    "    for i in lizst:\n",
    "    # combines each char in i to form a new string (1 + 4 = 14)    \n",
    "        c += i\n",
    "    return c\n",
    "comb_str(['1', '4'])"
   ]
  },
  {
   "cell_type": "markdown",
   "metadata": {},
   "source": [
    "Here is a function that takes a string with letters and integers, them splits them up into two lists. One list contains the letters while the other list contains the integers."
   ]
  },
  {
   "cell_type": "markdown",
   "metadata": {},
   "source": [
    "This function takes two lists and returns a list of tuples containing one element from one list and one element of the other list."
   ]
  },
  {
   "cell_type": "code",
   "execution_count": 146,
   "metadata": {},
   "outputs": [
    {
     "data": {
      "text/plain": [
       "[('K', 16),\n",
       " ('Y', 4),\n",
       " ('K', 32),\n",
       " ('Y', 48),\n",
       " ('R', 4),\n",
       " ('Y', 48),\n",
       " ('K', 32),\n",
       " ('Y', 4),\n",
       " ('K', 16)]"
      ]
     },
     "execution_count": 146,
     "metadata": {},
     "output_type": "execute_result"
    }
   ],
   "source": [
    "# This function will separate the characters by integers and letters into separate lists\n",
    "def deconstruct_pattern(data): # Input is the color-width data in the form of a list\n",
    "    data = data.split(\" \")\n",
    "    tups_list = []\n",
    "# Iterates over each character in a string\n",
    "    for i in data:\n",
    "        if_let = []\n",
    "        if_digit = []\n",
    "        for strs in i:\n",
    "    # If the character is a digit\n",
    "            if strs.isdigit(): \n",
    "            # Add the digit to the ints list\n",
    "                if_digit.append(strs)\n",
    "        # If its not a digit, but a letter\n",
    "            else:\n",
    "                # Add that letter into the letters list\n",
    "                if_let.append(strs)\n",
    "        tups = (comb_str(if_let),int(comb_str(if_digit)) )\n",
    "        tups_list.append(tups)\n",
    "    return tups_list\n",
    "\n",
    "\n",
    "deconstruct_pattern(\"K16 Y4 K32 Y48 R4 Y48 K32 Y4 K16\")"
   ]
  },
  {
   "cell_type": "markdown",
   "metadata": {},
   "source": [
    "This function combines the previous functions to create a list of tuples for the color-width data."
   ]
  },
  {
   "cell_type": "code",
   "execution_count": 147,
   "metadata": {
    "scrolled": true
   },
   "outputs": [
    {
     "data": {
      "text/plain": [
       "[('K', 16),\n",
       " ('Y', 4),\n",
       " ('K', 32),\n",
       " ('Y', 48),\n",
       " ('R', 4),\n",
       " ('Y', 48),\n",
       " ('K', 32),\n",
       " ('Y', 4),\n",
       " ('K', 16)]"
      ]
     },
     "execution_count": 147,
     "metadata": {},
     "output_type": "execute_result"
    }
   ],
   "source": [
    "deconstruct_pattern(\"K16 Y4 K32 Y48 R4 Y48 K32 Y4 K16\")"
   ]
  },
  {
   "cell_type": "code",
   "execution_count": 149,
   "metadata": {},
   "outputs": [
    {
     "data": {
      "text/plain": [
       "{'K': [0.06274509803921569, 0.06274509803921569, 0.06274509803921569],\n",
       " 'R': [0.7843137254901961, 0.0, 0.0],\n",
       " 'Y': [0.8470588235294118, 0.6901960784313725, 0.0]}"
      ]
     },
     "execution_count": 149,
     "metadata": {},
     "output_type": "execute_result"
    }
   ],
   "source": [
    "color_patt = {\"K\" : [16, 16, 16],\n",
    "\"R\" : [200, 0, 0],\n",
    "\"Y\" : [216, 176, 0]}\n",
    "\n",
    "def fix_color(dicts):\n",
    "    for i,j in dicts.items():\n",
    "        l = []\n",
    "        for k in j:\n",
    "            k = k/255\n",
    "            l.append(k)\n",
    "            dicts.update({i:l})\n",
    "    return dicts\n",
    "\n",
    "fix_color(color_patt)"
   ]
  },
  {
   "cell_type": "code",
   "execution_count": 150,
   "metadata": {},
   "outputs": [],
   "source": [
    "def make_stripe(pattern, width, height):\n",
    "    array = np.ones((height, width, 3))\n",
    "    for i,j in [(i,j) for i in range(height) for j in range(width)]:\n",
    "        array[i,j,:] = (pattern[0], pattern[1], pattern[2])\n",
    "    return array\n"
   ]
  },
  {
   "cell_type": "code",
   "execution_count": 25,
   "metadata": {},
   "outputs": [],
   "source": [
    "def build_vert(pattern, color_dict, size):\n",
    "    color_dict = fix_color(color_dict)\n",
    "    patt = deconstruct_pattern(pattern)\n",
    "    start = make_stripe(color_dict[patt[0][0]],patt[0][1],size)\n",
    "    while np.shape(start)[1] < size: \n",
    "        for i in patt[1:]:\n",
    "            strip = make_stripe(color_dict[i[0]],i[1],size)\n",
    "            start = np.concatenate([start, strip], 1)\n",
    "    plt.imshow(start)\n",
    "    plt.show()\n",
    "    print(np.shape(start))"
   ]
  },
  {
   "cell_type": "code",
   "execution_count": 26,
   "metadata": {},
   "outputs": [
    {
     "data": {
      "image/png": "[encoded data removed]",
      "text/plain": [
       "<Figure size 432x288 with 1 Axes>"
      ]
     },
     "metadata": {
      "needs_background": "light"
     },
     "output_type": "display_data"
    },
    {
     "name": "stdout",
     "output_type": "stream",
     "text": [
      "(52, 204, 3)\n"
     ]
    }
   ],
   "source": [
    "build_vert(\"K16 Y4 K32 Y48 R4 Y48 K32 Y4 K16\",\n",
    "{\"K\" : [16, 16, 16], \"R\" : [200, 0, 0], \"Y\" : [216, 176, 0]}\n",
    "          , 52)"
   ]
  },
  {
   "cell_type": "code",
   "execution_count": null,
   "metadata": {},
   "outputs": [],
   "source": []
  }
 ],
 "metadata": {
  "kernelspec": {
   "display_name": "Python 3",
   "language": "python",
   "name": "python3"
  },
  "language_info": {
   "codemirror_mode": {
    "name": "ipython",
    "version": 3
   },
   "file_extension": ".py",
   "mimetype": "text/x-python",
   "name": "python",
   "nbconvert_exporter": "python",
   "pygments_lexer": "ipython3",
   "version": "3.8.3"
  }
 },
 "nbformat": 4,
 "nbformat_minor": 4
}
