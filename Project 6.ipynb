{
 "cells": [
  {
   "cell_type": "markdown",
   "metadata": {},
   "source": [
    "# Word Analysis"
   ]
  },
  {
   "cell_type": "markdown",
   "metadata": {},
   "source": [
    "## Introduction\n",
    "For this project, we will be investigating the frequencies of words that appear in various books. Books are the foundation of knowledge, covering information from a variety of fields. All books must be written by some author. This allows for uniqueness in the ways sentences are phrased and how a story or text is portrayed."
   ]
  },
  {
   "cell_type": "markdown",
   "metadata": {},
   "source": [
    "## Goals of this Project\n",
    "\n",
    "The four books we would like to take a look at are *Around the World in Eighty Days* by J.Verne, *The Republic* by Plato, *The Little Women* by L.M. Alcott, and finally, *Gulliver’s Travels into Several Remote Regions of the World*, by J. Swift. We would like to answer two questions about this book.\n",
    "\n",
    "The first question we would like to answer is are there any noticeable patterns in the frequencies of the words being used in the books? Perhaps we can possibly discover some information about the book or information about the author this way.\n",
    "\n",
    "The second question we would like to answer is of the books we investigate; which book is the longest? Given a large set of words, we can guess which book is the largest by finding the total amount of words of each book. \n"
   ]
  },
  {
   "cell_type": "markdown",
   "metadata": {},
   "source": [
    "## Methodology\n",
    "We will use pyplot from matplotlib to plot the frequencies of words from each book. All functions not from matplotlib are built into python or created to help clean the book of any symbols that are not a part of words such as integers, punctuation, etc. After cleaning the text file, the created functions will be used to build python dictionaries with the words as keys and their corresponding frequencies as values.\n"
   ]
  },
  {
   "cell_type": "markdown",
   "metadata": {},
   "source": [
    "## Project Outline\n",
    "1. Create helper functions to clean the books of \"non-words\" and punctuation.\n",
    "2. Create a function to create a dictionary of the top most frequent words of each book.\n",
    "3. Analyze each book.\n",
    "4. Compare and contrast each book"
   ]
  },
  {
   "cell_type": "code",
   "execution_count": 1,
   "metadata": {},
   "outputs": [],
   "source": [
    "import matplotlib.pyplot as plt"
   ]
  },
  {
   "cell_type": "markdown",
   "metadata": {},
   "source": [
    "The function `remove_blanks` is a helper function that will remove lines and empty strings from each book and return each line of words in a list."
   ]
  },
  {
   "cell_type": "code",
   "execution_count": 2,
   "metadata": {},
   "outputs": [],
   "source": [
    "def remove_blanks(txt):\n",
    "    lister = []\n",
    "# Initiate a variable to open the text file\n",
    "    file = open(txt)\n",
    "# Initate a new variable to read the file for the function\n",
    "    data = file.read()\n",
    "# Close the file\n",
    "    file.close()\n",
    "# Create a list to remove the newline character\n",
    "    line_list = data.split(\"\\n\")\n",
    "# Remove the empty strings\n",
    "    for line in line_list:\n",
    "        words = line.split()\n",
    "        for i in words:\n",
    "            lister.append(i)\n",
    "    return lister"
   ]
  },
  {
   "cell_type": "markdown",
   "metadata": {},
   "source": [
    "The helper function `cleaner` will remove symbols that should not be part of a word such as numbers and punctuation. It will also remove any empty strings and add each individual word into a list."
   ]
  },
  {
   "cell_type": "code",
   "execution_count": 3,
   "metadata": {},
   "outputs": [],
   "source": [
    "def cleaner(lizst): # Input is a list of words from a text\n",
    "    kay = []\n",
    "# Adds each word in the inputted list into the kay list with only lowercased letters\n",
    "    for i in lizst:\n",
    "        kay.append(i.strip('!?0123456789\\\";,.').lower())\n",
    "# Removes any empty strings\n",
    "    for i in kay:\n",
    "        if i == '':\n",
    "            kay.remove(i)    \n",
    "    return kay"
   ]
  },
  {
   "cell_type": "markdown",
   "metadata": {},
   "source": [
    "The helper function `create_dict` will count frequencies of each word in a book and put them into a dictionary with the words as keys and their frequencies as its value."
   ]
  },
  {
   "cell_type": "code",
   "execution_count": 4,
   "metadata": {},
   "outputs": [],
   "source": [
    "def create_dict(txt): # Input is a text file\n",
    "    diction = {}\n",
    "    data = cleaner(remove_blanks(txt))\n",
    "# Iterates over a list of words and adds them to a dictionary with their frequencies\n",
    "    for i in data:\n",
    "        if i not in diction.keys():\n",
    "            diction[i] = data.count(i)\n",
    "    return diction"
   ]
  },
  {
   "cell_type": "markdown",
   "metadata": {},
   "source": [
    "The helper function `get_twenty_vals` takes the text file and finds the twenty most frequent numbers and places them in dictionaries."
   ]
  },
  {
   "cell_type": "code",
   "execution_count": 5,
   "metadata": {},
   "outputs": [],
   "source": [
    "def get_twenty_vals(txt): # Input is a text file.\n",
    "    data = create_dict(txt)\n",
    "    twenty_dict = {}\n",
    "# The sorter variable is all word frequencies sorted into a list\n",
    "    sorter = sorted(data.values(), reverse=True)\n",
    "# The vals variable is the highest frequencies \n",
    "    vals = sorter[0:20]\n",
    "# Plugs in key value pairs with values in the vals list into a new dictionary called twenty_dict\n",
    "    for i in data:\n",
    "        if data[i] in vals:\n",
    "            twenty_dict.update({i: data[i]})\n",
    "    return twenty_dict"
   ]
  },
  {
   "cell_type": "markdown",
   "metadata": {},
   "source": [
    "Finally, the `sort_twenty_vals` function will sort the top twenty word dictionary by their frequencies."
   ]
  },
  {
   "cell_type": "code",
   "execution_count": 6,
   "metadata": {},
   "outputs": [],
   "source": [
    "def sort_twenty_vals(dicts):\n",
    "    dicts = get_twenty_vals(dicts)\n",
    "    sorted_dict = {}\n",
    "# Sorts the values of the top 20 frequencies\n",
    "    for i in sorted(dicts.values(), reverse=True):\n",
    "        for k in dicts:\n",
    "            if dicts[k] == i:\n",
    "                sorted_dict.update({k: i})\n",
    "    return sorted_dict"
   ]
  },
  {
   "cell_type": "markdown",
   "metadata": {},
   "source": [
    "The `plot_words` function creates a plot of the top 20 frequencies taken from `sort_twenty_vals`."
   ]
  },
  {
   "cell_type": "code",
   "execution_count": 7,
   "metadata": {},
   "outputs": [],
   "source": [
    "def plot_words(txt):\n",
    "# deta is the top 20 most frequent words in a txt file with their frequencies in order from largest to smallest\n",
    "    deta = sort_twenty_vals(txt)\n",
    "\n",
    "    pos = []\n",
    "    for i in range(1,21):\n",
    "        pos.append(i)\n",
    "\n",
    "    data = deta.values()\n",
    "    labs = deta.keys()\n",
    "\n",
    "    plt.figure(tight_layout=True) \n",
    "    plt.bar(pos, data)\n",
    "    plt.title(txt.strip(\".txt\") + \" \" + \"word frequencies\")\n",
    "    plt.xlabel(\"Words\")\n",
    "    plt.ylabel(\"Frequencies\")\n",
    "    plt.xticks(pos, labs, rotation = 300)\n",
    "    plt.plot()"
   ]
  },
  {
   "cell_type": "markdown",
   "metadata": {},
   "source": [
    "## Analysis"
   ]
  },
  {
   "cell_type": "markdown",
   "metadata": {},
   "source": [
    "### Around the World in Eighty Days"
   ]
  },
  {
   "cell_type": "code",
   "execution_count": 8,
   "metadata": {},
   "outputs": [
    {
     "data": {
      "text/plain": [
       "{'the': 4708,\n",
       " 'and': 1902,\n",
       " 'of': 1811,\n",
       " 'to': 1671,\n",
       " 'a': 1312,\n",
       " 'in': 1053,\n",
       " 'was': 1004,\n",
       " 'he': 976,\n",
       " 'his': 858,\n",
       " 'at': 642,\n",
       " 'fogg': 599,\n",
       " 'it': 562,\n",
       " 'on': 527,\n",
       " 'with': 520,\n",
       " 'not': 516,\n",
       " 'had': 513,\n",
       " 'that': 511,\n",
       " 'which': 508,\n",
       " 'as': 441,\n",
       " 'for': 411}"
      ]
     },
     "execution_count": 8,
     "metadata": {},
     "output_type": "execute_result"
    }
   ],
   "source": [
    "sort_twenty_vals(\"around_world.txt\")"
   ]
  },
  {
   "cell_type": "code",
   "execution_count": 9,
   "metadata": {},
   "outputs": [
    {
     "data": {
      "image/png": "[encoded data removed]",
      "text/plain": [
       "<Figure size 432x288 with 1 Axes>"
      ]
     },
     "metadata": {
      "needs_background": "light"
     },
     "output_type": "display_data"
    }
   ],
   "source": [
    "plot_words(\"around_world.txt\")"
   ]
  },
  {
   "cell_type": "markdown",
   "metadata": {},
   "source": [
    "From looking at the graph, we have one outlier, \"the\", that is used much more than the other top 20 words. Even more interesting, we can see that the top 20 words all contain words indicating past tense such as “was”, “his”, and “had” which indicate that whatever the book is about could be taking place in the past. Another thing to notice are the pronouns “he” and “his”. This indicates the story is most likely about a male character. Given the name of the book, *Around the World*, perhaps it’ s about a male traveler and his adventures around the world. This book may also be written in the third person. You can argue this because words like \"I\" and \"my\" which indicate someone speaking about themselves, is not in the top twenty of words."
   ]
  },
  {
   "cell_type": "markdown",
   "metadata": {},
   "source": [
    "### The Republic"
   ]
  },
  {
   "cell_type": "code",
   "execution_count": 10,
   "metadata": {},
   "outputs": [
    {
     "data": {
      "text/plain": [
       "{'the': 7041,\n",
       " 'and': 5726,\n",
       " 'of': 4656,\n",
       " 'to': 3280,\n",
       " 'is': 2494,\n",
       " 'in': 2141,\n",
       " 'he': 2066,\n",
       " 'a': 2007,\n",
       " 'that': 1917,\n",
       " 'be': 1839,\n",
       " 'i': 1560,\n",
       " 'not': 1439,\n",
       " 'which': 1334,\n",
       " 'are': 1272,\n",
       " 'you': 1165,\n",
       " 'they': 1144,\n",
       " 'or': 1141,\n",
       " 'will': 1130,\n",
       " 'said': 1021,\n",
       " 'as': 910}"
      ]
     },
     "execution_count": 10,
     "metadata": {},
     "output_type": "execute_result"
    }
   ],
   "source": [
    "sort_twenty_vals(\"republic.txt\")"
   ]
  },
  {
   "cell_type": "code",
   "execution_count": 11,
   "metadata": {},
   "outputs": [
    {
     "data": {
      "image/png": "[encoded data removed]",
      "text/plain": [
       "<Figure size 432x288 with 1 Axes>"
      ]
     },
     "metadata": {
      "needs_background": "light"
     },
     "output_type": "display_data"
    }
   ],
   "source": [
    "plot_words(\"republic.txt\")"
   ]
  },
  {
   "cell_type": "markdown",
   "metadata": {},
   "source": [
    "Like the word count for *Around the World in Eighty Days*, “the\" is also most frequently used in the book. On the other hand, we can see that the word \"I\" is used quite frequently in the book, indicating that the story is possibly written in a first-person perspective. Another argument that supports this theory is the heavy use of other words such as \"you\" and \"they\" which tell us that the narrator is speaking about people around him/her. The word \"he\" is heavily used as well indicating that a side character in the story is a male. The heavy use of the word “and” also indicates that the book is speaking of two things that are in conjunction with one another."
   ]
  },
  {
   "cell_type": "markdown",
   "metadata": {},
   "source": [
    "### The Little Women"
   ]
  },
  {
   "cell_type": "code",
   "execution_count": 12,
   "metadata": {},
   "outputs": [
    {
     "data": {
      "text/plain": [
       "{'and': 8030,\n",
       " 'the': 7481,\n",
       " 'to': 5063,\n",
       " 'a': 4430,\n",
       " 'of': 3399,\n",
       " 'her': 3238,\n",
       " 'i': 3137,\n",
       " 'it': 2449,\n",
       " 'in': 2439,\n",
       " 'she': 2276,\n",
       " 'for': 2193,\n",
       " 'you': 2172,\n",
       " 'was': 2033,\n",
       " 'as': 1966,\n",
       " 'that': 1824,\n",
       " 'with': 1805,\n",
       " 'he': 1499,\n",
       " 'but': 1458,\n",
       " 'jo': 1244,\n",
       " 'so': 1126}"
      ]
     },
     "execution_count": 12,
     "metadata": {},
     "output_type": "execute_result"
    }
   ],
   "source": [
    "sort_twenty_vals(\"little.txt\")"
   ]
  },
  {
   "cell_type": "code",
   "execution_count": 13,
   "metadata": {},
   "outputs": [
    {
     "data": {
      "image/png": "[encoded data removed]",
      "text/plain": [
       "<Figure size 432x288 with 1 Axes>"
      ]
     },
     "metadata": {
      "needs_background": "light"
     },
     "output_type": "display_data"
    }
   ],
   "source": [
    "plot_words(\"little.txt\")"
   ]
  },
  {
   "cell_type": "markdown",
   "metadata": {},
   "source": [
    "Contrasting from the previous two books, the word “and” is the most used word in the book, indicating that the topic of the book works in conjunction with something else. We can also see that female pronouns such as “her” and “she” is used a lot indicating that perhaps a character in the story is a female.  The pronoun “he” is also frequently used, but not has much as the female pronouns indicating another male character of interest. Given the name of the book, *The Little Women*, it would suggest that the main character is also female, surrounded by other females."
   ]
  },
  {
   "cell_type": "markdown",
   "metadata": {},
   "source": [
    "### Gulliver’s Travels into Several Remote Regions of the World"
   ]
  },
  {
   "cell_type": "code",
   "execution_count": 14,
   "metadata": {},
   "outputs": [
    {
     "data": {
      "text/plain": [
       "{'the': 2911,\n",
       " 'of': 1781,\n",
       " 'and': 1777,\n",
       " 'to': 1578,\n",
       " 'i': 1441,\n",
       " 'a': 1168,\n",
       " 'in': 968,\n",
       " 'my': 845,\n",
       " 'was': 654,\n",
       " 'that': 569,\n",
       " 'me': 535,\n",
       " 'as': 487,\n",
       " 'his': 486,\n",
       " 'with': 432,\n",
       " 'for': 416,\n",
       " 'which': 413,\n",
       " 'it': 411,\n",
       " 'by': 371,\n",
       " 'he': 357,\n",
       " 'had': 354}"
      ]
     },
     "execution_count": 14,
     "metadata": {},
     "output_type": "execute_result"
    }
   ],
   "source": [
    "sort_twenty_vals(\"gulliver.txt\")"
   ]
  },
  {
   "cell_type": "code",
   "execution_count": 15,
   "metadata": {},
   "outputs": [
    {
     "data": {
      "image/png": "[encoded data removed]",
      "text/plain": [
       "<Figure size 432x288 with 1 Axes>"
      ]
     },
     "metadata": {
      "needs_background": "light"
     },
     "output_type": "display_data"
    }
   ],
   "source": [
    "plot_words(\"gulliver.txt\")"
   ]
  },
  {
   "cell_type": "markdown",
   "metadata": {},
   "source": [
    "Considering the name of the book and that the words “I”, “me”, and “my” are heavily used, we can suggest that the story is about travelling around the world through the eyes of a character named Gulliver. The story is most likely taking place in the present time because the only past-tense term on the graph is “had”, and “was”. There are also male pronouns such as “he” and “had” that suggest a male character is in the book. Finally, like the first two books, “the” is the most heavily used word in the book."
   ]
  },
  {
   "cell_type": "markdown",
   "metadata": {},
   "source": [
    "## Book Comparison\n",
    "Among all of the books, the most frequent words used are \"the\", \"of\", \"and\" \"to\". This makes sense because these words are heavily used to define and describe nouns. \"The\" and \"and\" are also usually the most frequent words used among each book. Though *Gulliver's Travels Into Serveral Remote Regions of the World* and *Around the World in Eighty Days* tend to use \"the\" significantly more n relation to the other nineteen respective words for each book. Surprisingly enough, both titles of these boths suggest that they are related to travelling.\n",
    "\n",
    "Which book do you think is the largest? It's possible that the book using the most words is the longest. Given that *The Little Woman* has two words with frequencies greater than 7000, along with the rest of the words with frequencies greater than 1000. We can hypothesize that *The Little Woman* is the longest book among the four. "
   ]
  },
  {
   "cell_type": "markdown",
   "metadata": {},
   "source": [
    "## Summary\n",
    "To summarize what we have learned about these books, both *Gulliver's Travels Into Several Remote Regions of the World* and *Around the World in Eighty Days* have titles suggesting that the books are about travel. Both of these books also have a noticeably high usage of the word “the” relative to their respective other high frequency words.\n",
    "\n",
    "*The Republic*, *The Little Woman*, and *Gulliver’s Travels Into Several Remote Regions of the World* all heavily use the word “I” which indicate that the books could have been written in a first-person perspective. On the other hand, *Around the World in Eighty Days* does not have “I” in the top twenty most frequently used words, but heavily use the pronouns “he” and “his” which may indicate that the story is told in a third person perspective.\n",
    "\n",
    "Given that the *The Little Woman* has words with the highest frequencies among all of the books, we can hypothesize that *The Little Woman* is the longest book among the four books.\n"
   ]
  }
 ],
 "metadata": {
  "kernelspec": {
   "display_name": "Python 3",
   "language": "python",
   "name": "python3"
  },
  "language_info": {
   "codemirror_mode": {
    "name": "ipython",
    "version": 3
   },
   "file_extension": ".py",
   "mimetype": "text/x-python",
   "name": "python",
   "nbconvert_exporter": "python",
   "pygments_lexer": "ipython3",
   "version": "3.8.3"
  }
 },
 "nbformat": 4,
 "nbformat_minor": 4
}
