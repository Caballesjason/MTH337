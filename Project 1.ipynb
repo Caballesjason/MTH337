{
 "cells": [
  {
   "cell_type": "markdown",
   "metadata": {},
   "source": [
    "# Project 1: Finding the first 20 False-Prime Numbers"
   ]
  },
  {
   "cell_type": "markdown",
   "metadata": {},
   "source": [
    "## Introduction\n",
    "### Prime Numbers and Their Properties\n",
    "A **prime number** can be described as an integer greater than 1 which is divisible only by 1 and itself.\" Basically, all numbers in $\\mathbb{N}$ that are only divisble by 1 and itself are prime numbers.\n",
    " \n",
    "All non-prime numbers are just a product of a bunch of prime factors $p_1, p_2,...,p_n$ where $p_1 \\leq p_2 \\leq...\\leq p_n $. This product is called _primary decomposition_.\n",
    "\n",
    "If you have two numbers $a$ and $b$ that each have the same remainder when divded by a third number, $c$. We can say that _a_ and _b_ are _congruent modulo c_. This is denoted as\n",
    "\n",
    "$$ a \\equiv b \\mod c $$\n",
    "\n",
    "\n",
    "There is a theorem in number theory that states that if $p$ is a prime number, then for any integer $ p > a \\geq 0 $,\n",
    "\n",
    "$$a^p \\equiv a \\mod p$$\n",
    "\n",
    "On the other hand, there exists non-prime integers for $p$ where this theorem still holds. These non-prime integers are called *false-primes*, where these integers are considered to be \"prime-like\", but not actually prime. Our goal for this project is to write a program that will find the first twenty false-primes and their corresponding primary decomposition. [1]"
   ]
  },
  {
   "cell_type": "markdown",
   "metadata": {},
   "source": [
    "The `prime_checker(n)` function allows us to determine if an inputted number is prime or not. [2]"
   ]
  },
  {
   "cell_type": "code",
   "execution_count": 1,
   "metadata": {},
   "outputs": [
    {
     "data": {
      "text/plain": [
       "True"
      ]
     },
     "execution_count": 1,
     "metadata": {},
     "output_type": "execute_result"
    }
   ],
   "source": [
    "def prime_checker(n):                 # [1]\n",
    "    is_it_prime = True                # Start out assuming 1417 is prime\n",
    "    for i in range(2, int(n**.5)+1):  # Loop through the numbers 2,3, 4, 5,..., 1416\n",
    "            if (n%i == 0):            # Check if 1417 is divisible by the current number\n",
    "                is_it_prime = False   # If it is, we set out storage variable to False\n",
    "                divisor = i           # Grab the divisor\n",
    "                break                 # The \"break\" keyword forces python to exit the loop.\n",
    "    return is_it_prime                # Return the boolean value\n",
    "                                      # We only need to go to the square root of n because thats\n",
    "                                      # The highest divisor.\n",
    "prime_checker(349)                    # Test case"
   ]
  },
  {
   "cell_type": "markdown",
   "metadata": {},
   "source": [
    "The `myprimes(n)` function takes a number as an input and returns a list of all prime numbers less than it. \n",
    "\n",
    "**Example**\n",
    "\n",
    "    myprimes(9)\n",
    "\n",
    "\n",
    "**Input**: \n",
    "\n",
    "    9\n",
    "\n",
    "**Output**:\n",
    "\n",
    "    [2, 3, 5, 7]"
   ]
  },
  {
   "cell_type": "code",
   "execution_count": 2,
   "metadata": {},
   "outputs": [],
   "source": [
    "def myprimes(n):               # Creates a list of primes smaller than n\n",
    "    list1 = []                 # Assign a variable to create an empty list\n",
    "    for i in range(2, n+1):    # Create a for loop with range 2 - n+1\n",
    "        if prime_checker(i):   # Create an if statement to check if a number is prime\n",
    "            list1.append(i)    # If the number is prime, then the number is added to the list\n",
    "    list1.sort()               # The sort() function sorts the numbers from smallest to largest\n",
    "    return list1               # Returns the list when the interations are complete"
   ]
  },
  {
   "cell_type": "code",
   "execution_count": 3,
   "metadata": {},
   "outputs": [
    {
     "data": {
      "text/plain": [
       "[2, 3, 5, 7]"
      ]
     },
     "execution_count": 3,
     "metadata": {},
     "output_type": "execute_result"
    }
   ],
   "source": [
    "myprimes(10)                   # Test case"
   ]
  },
  {
   "cell_type": "code",
   "execution_count": 4,
   "metadata": {},
   "outputs": [
    {
     "data": {
      "text/plain": [
       "[2, 3, 5, 7, 11, 13, 17, 19, 23, 29]"
      ]
     },
     "execution_count": 4,
     "metadata": {},
     "output_type": "execute_result"
    }
   ],
   "source": [
    "myprimes(29)                   # Test case"
   ]
  },
  {
   "cell_type": "markdown",
   "metadata": {},
   "source": [
    "The `primary(n)` function allows to return a list containing the primary decomposition of an inputted number. If the number is prime, the function returns the statement \"This is a prime number\"."
   ]
  },
  {
   "cell_type": "code",
   "execution_count": 5,
   "metadata": {},
   "outputs": [],
   "source": [
    "def primary(n):                              # Define the function \"primary\"\n",
    "    PList = myprimes(n)                      # Creates a list called Plist that returns a list from myprime\n",
    "    Output = []                              # Initialize an empty list called Output\n",
    "    if prime_checker(n):                     # Determine if the number is prime.\n",
    "        print(\"This is a prime number\")      # If the number is prime, print statement.     \n",
    "    elif prime_checker(n)==False:            # If the number is not prime, follow the for loop\n",
    "        for i in PList:                      # Create a for loop to loop PList indexes\n",
    "            while (n % i == 0):              # While the remainder of n divided by i is 0\n",
    "                Output.append(i)             # Add that number to Output\n",
    "                n = n/i                      # Divide that number by i and reassign n\n",
    "                if (n%i != 0):               # If that new n divides by i and does not equal 0, end the loop\n",
    "                    break                    # Ends loop\n",
    "        return Output                        # Return the Output (primary decomposition)"
   ]
  },
  {
   "cell_type": "code",
   "execution_count": 6,
   "metadata": {},
   "outputs": [
    {
     "name": "stdout",
     "output_type": "stream",
     "text": [
      "This is a prime number\n"
     ]
    }
   ],
   "source": [
    "primary(7)                                   # Test case"
   ]
  },
  {
   "cell_type": "code",
   "execution_count": 7,
   "metadata": {},
   "outputs": [
    {
     "data": {
      "text/plain": [
       "[2, 2, 3]"
      ]
     },
     "execution_count": 7,
     "metadata": {},
     "output_type": "execute_result"
    }
   ],
   "source": [
    "primary(12)"
   ]
  },
  {
   "cell_type": "markdown",
   "metadata": {},
   "source": [
    "## Part 1: Find the first 20 false-primes"
   ]
  },
  {
   "cell_type": "markdown",
   "metadata": {},
   "source": [
    "The `isprimelike(p)` function allows us to determine if a number is considered to be prime-like. We use the definition of prime-like as the basis of our if statements."
   ]
  },
  {
   "cell_type": "code",
   "execution_count": 8,
   "metadata": {},
   "outputs": [],
   "source": [
    "def isprimelike(p):                 # We define our function that takes an integer as a number\n",
    "    ans = True                      # We assume our output is True by assigning a varaible to True\n",
    "    b = list(range(0, p-1))         # We create a list from zero to one less than the input\n",
    "    for i in b:                     # Create a for loop iterating over each index in the list \n",
    "        if (pow(i,p,p) != i%p):     # If statement to determine if number is NOT prime-like\n",
    "            ans = False             # If the number is NOT prime-like, return False\n",
    "            break                   # Exit the loop\n",
    "    return ans                      # Return the ans value\n"
   ]
  },
  {
   "cell_type": "markdown",
   "metadata": {},
   "source": [
    "In this cell, we use use a while loop, `prime_checker(n)`, and `isprimelike(a)` to check odd integers greater than 561 (the smallest false-prime) to see if they meet the criteria of being a false-prime. We keep doing this until the first twenty false-primes are found."
   ]
  },
  {
   "cell_type": "code",
   "execution_count": 10,
   "metadata": {},
   "outputs": [
    {
     "data": {
      "text/plain": [
       "[561,\n",
       " 1105,\n",
       " 1729,\n",
       " 2465,\n",
       " 2821,\n",
       " 6601,\n",
       " 8911,\n",
       " 10585,\n",
       " 15841,\n",
       " 29341,\n",
       " 41041,\n",
       " 46657,\n",
       " 52633,\n",
       " 62745,\n",
       " 63973,\n",
       " 75361,\n",
       " 101101,\n",
       " 115921,\n",
       " 126217,\n",
       " 162401]"
      ]
     },
     "execution_count": 10,
     "metadata": {},
     "output_type": "execute_result"
    }
   ],
   "source": [
    "sol = []                         # Create an empty list\n",
    "a = 561                          # Initialize a starting variable (first false prime)\n",
    "while len(sol) < 20:             # While loop conditional to sol list having less than 20 indexes            \n",
    "    if (prime_checker(a)):       # If the number a is a prime\n",
    "        a=a+2                    # a is resigned to be 2 larger\n",
    "    else:                        # If a is NOT a prime\n",
    "        if (isprimelike(a)):     # If a is prime-like, we have a false-prime!\n",
    "            sol.append(a)        # We add the false-prime to our sol list\n",
    "            a=a+2                # a is resigned to be 2 larger\n",
    "        else:                    # If a is not prime-like \n",
    "            a=a+2                # a is resigned to be 2 larger\n",
    "sol                              # Print our first 20 false primes"
   ]
  },
  {
   "cell_type": "markdown",
   "metadata": {},
   "source": [
    "## Part 2: Find the primary decomposition of each prime"
   ]
  },
  {
   "cell_type": "markdown",
   "metadata": {},
   "source": [
    "In this cell block, we create a for loop to iterate over the twenty false-primes we found to find each of their respective primary decompositon."
   ]
  },
  {
   "cell_type": "code",
   "execution_count": 11,
   "metadata": {},
   "outputs": [
    {
     "data": {
      "text/plain": [
       "[[3, 11, 17],\n",
       " [5, 13, 17],\n",
       " [7, 13, 19],\n",
       " [5, 17, 29],\n",
       " [7, 13, 31],\n",
       " [7, 23, 41],\n",
       " [7, 19, 67],\n",
       " [5, 29, 73],\n",
       " [7, 31, 73],\n",
       " [13, 37, 61],\n",
       " [7, 11, 13, 41],\n",
       " [13, 37, 97],\n",
       " [7, 73, 103],\n",
       " [3, 5, 47, 89],\n",
       " [7, 13, 19, 37],\n",
       " [11, 13, 17, 31],\n",
       " [7, 11, 13, 101],\n",
       " [13, 37, 241],\n",
       " [7, 13, 19, 73],\n",
       " [17, 41, 233]]"
      ]
     },
     "execution_count": 11,
     "metadata": {},
     "output_type": "execute_result"
    }
   ],
   "source": [
    "fin = []                    # Create another empty list\n",
    "for i in sol:               # Iterate over the False-Prime list\n",
    "    fin.append(primary(i))  # Add each list of primal decompositions into a list\n",
    "fin                         # Return said list"
   ]
  },
  {
   "cell_type": "markdown",
   "metadata": {},
   "source": [
    "## Part 3: What can you say or conjecture about properties of false primes? (Conclusion)\n",
    "* False primes increase exponentially\n",
    "* As your false prime increases, the primes in its primary decomposition increase as well"
   ]
  },
  {
   "cell_type": "markdown",
   "metadata": {},
   "source": [
    "## Citation"
   ]
  },
  {
   "cell_type": "markdown",
   "metadata": {},
   "source": [
    "[1] `prime_checker(n)` was taken from our **week 2 notes**\n",
    "\n",
    "[2] Definitions of false-primes, congruences, prime numbers, and the number theory theorem was taken from the project prompt."
   ]
  }
 ],
 "metadata": {
  "kernelspec": {
   "display_name": "Python 3",
   "language": "python",
   "name": "python3"
  },
  "language_info": {
   "codemirror_mode": {
    "name": "ipython",
    "version": 3
   },
   "file_extension": ".py",
   "mimetype": "text/x-python",
   "name": "python",
   "nbconvert_exporter": "python",
   "pygments_lexer": "ipython3",
   "version": "3.8.3"
  }
 },
 "nbformat": 4,
 "nbformat_minor": 4
}
